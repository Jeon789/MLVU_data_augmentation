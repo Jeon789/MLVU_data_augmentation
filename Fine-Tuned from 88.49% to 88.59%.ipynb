{
 "cells": [
  {
   "cell_type": "code",
   "execution_count": 2,
   "metadata": {},
   "outputs": [],
   "source": [
    "import torch\n",
    "import torchvision\n",
    "import torchvision.transforms as transforms\n",
    "import random\n",
    "\n",
    "# Settings\n",
    "device = torch.device('cuda' if torch.cuda.is_available() else 'cpu')\n",
    "num_epoch = 20\n",
    "batch_size = 100\n",
    "learning_rate = 0.001\n",
    "\n",
    "transform = transforms.Compose([\n",
    "    transforms.Pad(4),\n",
    "    transforms.RandomHorizontalFlip(),\n",
    "    transforms.RandomCrop(32)\n",
    "])"
   ]
  },
  {
   "cell_type": "code",
   "execution_count": 8,
   "metadata": {},
   "outputs": [
    {
     "name": "stdout",
     "output_type": "stream",
     "text": [
      "torch.Size([100, 3, 32, 32])\n",
      "torch.Size([100])\n"
     ]
    }
   ],
   "source": [
    "whole_image = torch.load('ft_data_image')\n",
    "augmented_images_label = torch.load('augmented_images_label.pt')\n",
    "whole_label = augmented_images_label + augmented_images_label + augmented_images_label + augmented_images_label\n",
    "whole_label = torch.stack(whole_label)\n",
    "#whole_image = whole_image[:20000]\n",
    "#whole_label = whole_label[:20000]\n",
    "\n",
    "torch.manual_seed(77777)\n",
    "pmtn = torch.randperm(whole_image.size()[0])          #seed를 고정해도 torch.randperm이 선언될때마다 각각은 고정되지만\n",
    "whole_image=whole_image[pmtn]                         #서로 다른 pmtn을 갖는다 그래서 하나로 고정\n",
    "whole_label=whole_label[pmtn]\n",
    "whole_image = whole_image[:100]\n",
    "whole_label = whole_label[:100]\n",
    "print(whole_image.size())\n",
    "print(whole_label.size())"
   ]
  },
  {
   "cell_type": "code",
   "execution_count": 9,
   "metadata": {},
   "outputs": [],
   "source": [
    "import torch\n",
    "import torch.nn as nn\n",
    "import torchvision\n",
    "import torchvision.transforms as transforms\n",
    "\n",
    "from model_resnet import ResNet\n",
    "from model_resnet import ResidualBlock\n",
    "\n",
    "num_epoch = 1\n",
    "learning_rate = 0.001\n",
    "\n",
    "# Model Load\n",
    "model = ResNet(ResidualBlock, [2, 2, 2]).to(device)\n",
    "model = torch.load('resnet_trained_model.ckpt')\n",
    "model.load_state_dict(torch.load('resnet_trained_model_state.ckpt'))\n",
    "\n",
    "# Loss and optimizer\n",
    "criterion = nn.CrossEntropyLoss()\n",
    "#optimizer = torch.optim.Adam(model.parameters(), lr=learning_rate)\n",
    "optimizer = torch.optim.Adadelta(model.parameters(), lr=0.00001, rho=0.9, eps=1e-06, weight_decay=0)\n",
    "\n",
    "# For updating learning rate\n",
    "def update_lr(optimizer, lr):\n",
    "    for param_group in optimizer.param_groups:\n",
    "        param_group['lr'] = lr"
   ]
  },
  {
   "cell_type": "code",
   "execution_count": 10,
   "metadata": {},
   "outputs": [
    {
     "name": "stdout",
     "output_type": "stream",
     "text": [
      "Files already downloaded and verified\n",
      "Accuracy of the pre-trained model on the test images: 88.49 %\n"
     ]
    }
   ],
   "source": [
    "#Test the pre_trained Model\n",
    "\n",
    "# 1. Loading CIFAR dataset\n",
    "test_dataset = torchvision.datasets.CIFAR10(root='../../data/',\n",
    "                                            train=False,\n",
    "                                            transform=transforms.ToTensor(),\n",
    "                                            download=True)\n",
    "\n",
    "test_loader = torch.utils.data.DataLoader(dataset=test_dataset,\n",
    "                                          batch_size=100,\n",
    "                                          shuffle=False)\n",
    "\n",
    "model.eval()\n",
    "\n",
    "with torch.no_grad():\n",
    "    correct = 0\n",
    "    total = 0\n",
    "    for images, labels in test_loader:\n",
    "        images = images.to(device)\n",
    "        labels = labels.to(device)\n",
    "        outputs = model(images)\n",
    "        _, predicted = torch.max(outputs.data, 1)\n",
    "        total += labels.size(0)\n",
    "        correct += (predicted == labels).sum().item()\n",
    "\n",
    "    print('Accuracy of the pre-trained model on the test images: {} %'.format(100 * correct / total))"
   ]
  },
  {
   "cell_type": "code",
   "execution_count": 11,
   "metadata": {},
   "outputs": [],
   "source": [
    "total_step = whole_image.size()[0] // batch_size\n",
    "curr_lr = learning_rate\n",
    "model.train()\n",
    "\n",
    "for epoch in range(num_epoch):\n",
    "    correct = 0\n",
    "    total = 0\n",
    "    \n",
    "    # Transform & Shuffle\n",
    "    whole_image = transform(whole_image.to(device))\n",
    "    whole_label = whole_label.to(device)\n",
    "    \n",
    "    torch.manual_seed(epoch)\n",
    "    pmtn = torch.randperm(whole_image.size()[0])          #seed를 고정해도 torch.randperm이 선언될때마다 각각은 고정되지만\n",
    "    whole_image=whole_image[pmtn]                         #서로 다른 pmtn을 갖는다 그래서 하나로 고정\n",
    "    whole_label=whole_label[pmtn]                 \n",
    "\n",
    "    for i in range(whole_image.size()[0] // batch_size):\n",
    "        images = whole_image[i*batch_size:(i+1)*batch_size]\n",
    "        labels = whole_label[i*batch_size:(i+1)*batch_size]\n",
    "        \n",
    "        # Forward pass\n",
    "        outputs = model(images)\n",
    "        loss = criterion(outputs, labels)\n",
    "\n",
    "        # Backward and optimize\n",
    "        optimizer.zero_grad()\n",
    "        loss.backward()\n",
    "        optimizer.step()\n",
    "\n",
    "        total += labels.size(0)\n",
    "        _, predicted = outputs.max(1)\n",
    "        correct += predicted.eq(labels).sum().item()\n",
    "\n",
    "        acc = 100 * correct / total\n",
    "        if (i+1) % 100 == 0:\n",
    "            print (\"Epoch [{}/{}], Step [{}/{}] Loss: {:.4f} | Accuracy: {:.4f}\"\n",
    "                   .format(epoch+1, num_epoch, i+1, total_step, loss.item(), acc))\n",
    "        \n",
    "     # Decay learning rate\n",
    "    if ((epoch+1)%2==0):\n",
    "        curr_lr /= 3\n",
    "        update_lr(optimizer, curr_lr)\n",
    "        "
   ]
  },
  {
   "cell_type": "code",
   "execution_count": 12,
   "metadata": {},
   "outputs": [
    {
     "name": "stdout",
     "output_type": "stream",
     "text": [
      "Accuracy of the fine-tuned model on the test images: 88.59 %\n"
     ]
    }
   ],
   "source": [
    "import torch\n",
    "import torchvision\n",
    "import torchvision.transforms as transforms\n",
    "\n",
    "# Device configuration\n",
    "#device = torch.device('cuda' if torch.cuda.is_available() else 'cpu')\n",
    "#print(device)\n",
    "\n",
    "# 1. Loading CIFAR dataset\n",
    "#test_dataset = torchvision.datasets.CIFAR10(root='../../data/',\n",
    "#                                            train=False,\n",
    "#                                            transform=transforms.ToTensor(),\n",
    "#                                            download=True)\n",
    "\n",
    "#test_loader = torch.utils.data.DataLoader(dataset=test_dataset,\n",
    "#                                          batch_size=100,\n",
    "#                                          shuffle=False)\n",
    "\n",
    "\"\"\"for images, labels in test_loader:\n",
    "    print(images.shape)   # torch.Size([100, 3, 32, 32])\n",
    "    print(labels.shape)   # torch.Size([100])\n",
    "    print(type(images))\"\"\"\n",
    "\n",
    "# Test the model\n",
    "#model = torch.load('resnet_fine_tuned_model_epoch5.ckpt')\n",
    "#model.load_state_dict(torch.load('resnet_fine_tuned_model_state_epoch5.ckpt'))\n",
    "model.eval()\n",
    "with torch.no_grad():\n",
    "    correct = 0\n",
    "    total = 0\n",
    "    for images, labels in test_loader:\n",
    "        images = images.to(device)\n",
    "        labels = labels.to(device)\n",
    "        outputs = model(images)\n",
    "        _, predicted = torch.max(outputs.data, 1)\n",
    "        total += labels.size(0)\n",
    "        correct += (predicted == labels).sum().item()\n",
    "\n",
    "    print('Accuracy of the fine-tuned model on the test images: {} %'.format(100 * correct / total))\n"
   ]
  },
  {
   "cell_type": "code",
   "execution_count": 17,
   "metadata": {},
   "outputs": [],
   "source": [
    "torch.save(model,'resnet_fine_tuned_modelA.ckpt') #전체모델저장\n",
    "torch.save(model.state_dict(),'resnet_fine_tuned_modelA_state.ckpt')\n",
    "torch.save({\n",
    "        'model':model.state_dict(),\n",
    "        'optimizer':optimizer.state_dict()},\n",
    "        'resnet_fine_tuned_modelA_all.tar')"
   ]
  }
 ],
 "metadata": {
  "kernelspec": {
   "display_name": "Python 3",
   "language": "python",
   "name": "python3"
  },
  "language_info": {
   "codemirror_mode": {
    "name": "ipython",
    "version": 3
   },
   "file_extension": ".py",
   "mimetype": "text/x-python",
   "name": "python",
   "nbconvert_exporter": "python",
   "pygments_lexer": "ipython3",
   "version": "3.7.6"
  }
 },
 "nbformat": 4,
 "nbformat_minor": 4
}
